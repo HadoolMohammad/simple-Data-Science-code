{
 "cells": [
  {
   "cell_type": "markdown",
   "id": "6cf2bcaa",
   "metadata": {},
   "source": [
    "### 1.How do you get a list of all the keys in a dictionary ? "
   ]
  },
  {
   "cell_type": "markdown",
   "id": "0d18a993",
   "metadata": {},
   "source": [
    "To get a list of all the keys in a dictionary , we use the .keys() function "
   ]
  },
  {
   "cell_type": "code",
   "execution_count": 5,
   "id": "133095d7",
   "metadata": {},
   "outputs": [],
   "source": [
    "d={'India':'New Delhi' , 'USA' :'Washington' , \"France\":'Paris'}"
   ]
  },
  {
   "cell_type": "code",
   "execution_count": 6,
   "id": "6735c5a5",
   "metadata": {},
   "outputs": [
    {
     "data": {
      "text/plain": [
       "dict_keys(['India', 'USA', 'France'])"
      ]
     },
     "execution_count": 6,
     "metadata": {},
     "output_type": "execute_result"
    }
   ],
   "source": [
    "d.keys()"
   ]
  },
  {
   "cell_type": "markdown",
   "id": "430f25f7",
   "metadata": {},
   "source": [
    "### 2. What do you maen by List Comrehension in puthon ?"
   ]
  },
  {
   "cell_type": "markdown",
   "id": "c06c09e8",
   "metadata": {},
   "source": [
    " List Comrehension ara a short and elegent way to define and create new lists based on exiting lists"
   ]
  },
  {
   "cell_type": "code",
   "execution_count": 8,
   "id": "7883f69c",
   "metadata": {},
   "outputs": [],
   "source": [
    "l=[1,2,3,4]"
   ]
  },
  {
   "cell_type": "code",
   "execution_count": 10,
   "id": "ebfbf35b",
   "metadata": {},
   "outputs": [
    {
     "name": "stdout",
     "output_type": "stream",
     "text": [
      "[2, 4]\n"
     ]
    }
   ],
   "source": [
    "l1=[]\n",
    "for i in l:\n",
    "    if i %2==0:\n",
    "        l1.append(i)\n",
    "print (l1)\n",
    "        "
   ]
  },
  {
   "cell_type": "code",
   "execution_count": 11,
   "id": "bc3dd22e",
   "metadata": {},
   "outputs": [
    {
     "name": "stdout",
     "output_type": "stream",
     "text": [
      "[2, 4]\n"
     ]
    }
   ],
   "source": [
    "l2=[i for i in l if i %2==0]\n",
    "print(l2)\n"
   ]
  },
  {
   "cell_type": "markdown",
   "id": "1835f1ba",
   "metadata": {},
   "source": [
    "عمومًا، يعتمد استخدام الذاكرة والوقت على حجم البيانات المعالجة ونوع العملية المطلوب تنفيذها. في بعض الحالات، قد يستخدم List Comprehension ذاكرة أقل ويكون أسرع من استخدام حلقة for، وفي حالات أخرى قد يكون العكس صحيحًا. \n",
    "\n",
    "بالنسبة لـ lambda، فهو يستخدم لإنشاء وظائف صغيرة وبسيطة في سطر واحد، وعادة ما يكون أسرع من استخدام حلقة for أو List Comprehension في هذه الحالات. \n",
    "\n",
    "ولكن بشكل عام، يجب إجراء اختبارات لقياس الوقت والذاكرة المستخدمة في كل حالة محددة لتحديد أيهما يناسبها بشكل أفضل."
   ]
  },
  {
   "cell_type": "markdown",
   "id": "487e51fc",
   "metadata": {},
   "source": [
    "### 3. Given a list of numbers ,  find the squares of the numbers using the map function in python ."
   ]
  },
  {
   "cell_type": "markdown",
   "id": "14b29f00",
   "metadata": {},
   "source": [
    "the map() function calls the specified function for each element of an iterable and returns a list of results"
   ]
  },
  {
   "cell_type": "code",
   "execution_count": 19,
   "id": "d2cfd940",
   "metadata": {},
   "outputs": [
    {
     "name": "stdout",
     "output_type": "stream",
     "text": [
      "1\n",
      "4\n",
      "9\n",
      "16\n",
      "25\n"
     ]
    }
   ],
   "source": [
    "def sq (x):\n",
    "    return x*x\n",
    "num=[1,2,3,4,5]\n",
    "num_squared=map(sq,num)\n",
    "for num in num_squared :\n",
    "    print (num)\n"
   ]
  },
  {
   "cell_type": "markdown",
   "id": "45537c5a",
   "metadata": {},
   "source": [
    "يستخدم lambda لإنشاء وظائف صغيرة وبسيطة في سطر واحد، بينما يستخدم map لتطبيق وظيفة معينة على كل عنصر في قائمة وإرجاع قائمة جديدة بالنتائج. \n",
    "\n",
    "بشكل عام، يمكن استخدام map بشكل أسرع وأكثر فعالية في حالات تطبيق نفس الوظيفة على عدة عناصر في القائمة، بينما يمكن استخدام lambda في حالات تحتاج فيها إلى إنشاء وظيفة بسيطة ومستقلة. \n",
    "\n",
    "بالنسبة للاستخدام، فإن map يستخدم عادة مع الدوال المدمجة في Python (built-in functions)، بينما يستخدم lambda لإنشاء وظائف مخصصة تلبي احتياجات البرنامج. \n",
    "\n",
    "بالنسبة للاستخدام الذاكرة، فإن map يستخدم ذاكرة أقل من استخدام حلقة for التقليدية، بينما يستخدم lambda ذاكرة قليلة جدًا، حيث يتم إنشاء الوظيفة في الذاكرة ولا يتم تخزينها في قائمة أو متغير. \n",
    "\n",
    "ولكن، يجب إجراء اختبارات لقياس الوقت والذاكرة المستخدمة في كل حالة محددة لتحديد أيهما يناسبها بشكل أف"
   ]
  },
  {
   "cell_type": "markdown",
   "id": "f19383a7",
   "metadata": {},
   "source": [
    "### 4. Write a program to filter out the numbers divisible by 3 from a tuple using lambda function"
   ]
  },
  {
   "cell_type": "code",
   "execution_count": 20,
   "id": "bb210514",
   "metadata": {},
   "outputs": [
    {
     "name": "stdout",
     "output_type": "stream",
     "text": [
      "(3, 12, 9)\n"
     ]
    }
   ],
   "source": [
    "my_tup=(1,2,3,4,5,12,9)\n",
    "new_tup=tuple(filter(lambda x:(x%3 == 0), my_tup))\n",
    "print(new_tup)"
   ]
  },
  {
   "cell_type": "markdown",
   "id": "12d01ad6",
   "metadata": {},
   "source": [
    "### 5. How to create a dataframe from a dictionary ?"
   ]
  },
  {
   "cell_type": "code",
   "execution_count": 26,
   "id": "f3f17f67",
   "metadata": {},
   "outputs": [],
   "source": [
    "import pandas as pd\n",
    "emp={\"Name\" : ['any','tala','hadeel'],\n",
    "    \"Age\" :[12,20,22],\n",
    "    \"city\":['dubie','lattakia','damas']}"
   ]
  },
  {
   "cell_type": "code",
   "execution_count": 27,
   "id": "27adb4a8",
   "metadata": {},
   "outputs": [
    {
     "name": "stdout",
     "output_type": "stream",
     "text": [
      "{'Name': ['any', 'tala', 'hadeel'], 'Age': [12, 20, 22], 'city': ['dubie', 'lattakia', 'damas']}\n"
     ]
    }
   ],
   "source": [
    "print (emp)"
   ]
  },
  {
   "cell_type": "code",
   "execution_count": 28,
   "id": "80f3226d",
   "metadata": {},
   "outputs": [],
   "source": [
    "df=pd.DataFrame(emp)"
   ]
  },
  {
   "cell_type": "code",
   "execution_count": 29,
   "id": "1e7ff890",
   "metadata": {},
   "outputs": [
    {
     "data": {
      "text/html": [
       "<div>\n",
       "<style scoped>\n",
       "    .dataframe tbody tr th:only-of-type {\n",
       "        vertical-align: middle;\n",
       "    }\n",
       "\n",
       "    .dataframe tbody tr th {\n",
       "        vertical-align: top;\n",
       "    }\n",
       "\n",
       "    .dataframe thead th {\n",
       "        text-align: right;\n",
       "    }\n",
       "</style>\n",
       "<table border=\"1\" class=\"dataframe\">\n",
       "  <thead>\n",
       "    <tr style=\"text-align: right;\">\n",
       "      <th></th>\n",
       "      <th>Name</th>\n",
       "      <th>Age</th>\n",
       "      <th>city</th>\n",
       "    </tr>\n",
       "  </thead>\n",
       "  <tbody>\n",
       "    <tr>\n",
       "      <th>0</th>\n",
       "      <td>any</td>\n",
       "      <td>12</td>\n",
       "      <td>dubie</td>\n",
       "    </tr>\n",
       "    <tr>\n",
       "      <th>1</th>\n",
       "      <td>tala</td>\n",
       "      <td>20</td>\n",
       "      <td>lattakia</td>\n",
       "    </tr>\n",
       "    <tr>\n",
       "      <th>2</th>\n",
       "      <td>hadeel</td>\n",
       "      <td>22</td>\n",
       "      <td>damas</td>\n",
       "    </tr>\n",
       "  </tbody>\n",
       "</table>\n",
       "</div>"
      ],
      "text/plain": [
       "     Name  Age      city\n",
       "0     any   12     dubie\n",
       "1    tala   20  lattakia\n",
       "2  hadeel   22     damas"
      ]
     },
     "execution_count": 29,
     "metadata": {},
     "output_type": "execute_result"
    }
   ],
   "source": [
    "df"
   ]
  },
  {
   "cell_type": "markdown",
   "id": "d2d223bf",
   "metadata": {},
   "source": [
    "### 6. What is the diference between loc() and iloc() in python ?"
   ]
  },
  {
   "cell_type": "markdown",
   "id": "61d68dd1",
   "metadata": {},
   "source": [
    "تختلف loc() و iloc() في Python في كيفية الوصول إلى البيانات في DataFrame. تستخدم loc() للوصول إلى الصفوف والأعمدة باستخدام العلامات (labels) الموجودة في الفهرس (index)، بينما تستخدم iloc() للوصول إلى الصفوف والأعمدة باستخدام المواقع (integer positions) في الفهرس. بشكل عام، يستخدم loc() عند الوصول إلى البيانات باستخدام العلامات، بينما يستخدم iloc() عند الوصول إلى البيانات باستخدام المواقع.\n",
    " Loc() and iloc() in Python differ in how data is accessed in a DataFrame. Loc() is used to access rows and columns using labels in the index, while iloc () is used to access rows and columns using integer positions in the index. In general, loc() is used when accessing data using tags, while iloc() is used when accessing data using locations."
   ]
  },
  {
   "cell_type": "code",
   "execution_count": 30,
   "id": "002b4ceb",
   "metadata": {},
   "outputs": [
    {
     "data": {
      "text/plain": [
       "1    20\n",
       "2    22\n",
       "Name: Age, dtype: int64"
      ]
     },
     "execution_count": 30,
     "metadata": {},
     "output_type": "execute_result"
    }
   ],
   "source": [
    "df.loc[1:2,'Age']"
   ]
  },
  {
   "cell_type": "code",
   "execution_count": 36,
   "id": "044e28ab",
   "metadata": {},
   "outputs": [
    {
     "data": {
      "text/html": [
       "<div>\n",
       "<style scoped>\n",
       "    .dataframe tbody tr th:only-of-type {\n",
       "        vertical-align: middle;\n",
       "    }\n",
       "\n",
       "    .dataframe tbody tr th {\n",
       "        vertical-align: top;\n",
       "    }\n",
       "\n",
       "    .dataframe thead th {\n",
       "        text-align: right;\n",
       "    }\n",
       "</style>\n",
       "<table border=\"1\" class=\"dataframe\">\n",
       "  <thead>\n",
       "    <tr style=\"text-align: right;\">\n",
       "      <th></th>\n",
       "      <th>Name</th>\n",
       "      <th>Age</th>\n",
       "      <th>city</th>\n",
       "    </tr>\n",
       "  </thead>\n",
       "  <tbody>\n",
       "    <tr>\n",
       "      <th>0</th>\n",
       "      <td>any</td>\n",
       "      <td>12</td>\n",
       "      <td>dubie</td>\n",
       "    </tr>\n",
       "    <tr>\n",
       "      <th>1</th>\n",
       "      <td>tala</td>\n",
       "      <td>20</td>\n",
       "      <td>lattakia</td>\n",
       "    </tr>\n",
       "    <tr>\n",
       "      <th>2</th>\n",
       "      <td>hadeel</td>\n",
       "      <td>22</td>\n",
       "      <td>damas</td>\n",
       "    </tr>\n",
       "  </tbody>\n",
       "</table>\n",
       "</div>"
      ],
      "text/plain": [
       "     Name  Age      city\n",
       "0     any   12     dubie\n",
       "1    tala   20  lattakia\n",
       "2  hadeel   22     damas"
      ]
     },
     "execution_count": 36,
     "metadata": {},
     "output_type": "execute_result"
    }
   ],
   "source": [
    "df.iloc[0:3,0:3]"
   ]
  },
  {
   "cell_type": "code",
   "execution_count": 39,
   "id": "e7f68c77",
   "metadata": {},
   "outputs": [
    {
     "name": "stdout",
     "output_type": "stream",
     "text": [
      "     Name  Age\n",
      "1    tala   20\n",
      "2  hadeel   22\n"
     ]
    }
   ],
   "source": [
    "print(df.loc[df['Age']>19,['Name','Age'])"
   ]
  },
  {
   "cell_type": "code",
   "execution_count": 44,
   "id": "d30254f6",
   "metadata": {},
   "outputs": [
    {
     "name": "stdout",
     "output_type": "stream",
     "text": [
      "     Name  Age\n",
      "1    tala   20\n",
      "2  hadeel   22\n"
     ]
    }
   ],
   "source": [
    "print(df.iloc[(df['Age']>19).values ,[0,1]])"
   ]
  },
  {
   "cell_type": "markdown",
   "id": "d61988f1",
   "metadata": {},
   "source": [
    "### 7. How is list.append() different from list.extend()?"
   ]
  },
  {
   "cell_type": "markdown",
   "id": "e76ad0bb",
   "metadata": {},
   "source": [
    "list.append() adds its argument as a single element to the end of a list , the length of the list increace by one \n",
    "list.extend() iterates over its argument and adds each element to the list , the length of the list increases by the number of elements in it’s argument"
   ]
  },
  {
   "cell_type": "code",
   "execution_count": 46,
   "id": "1304e243",
   "metadata": {},
   "outputs": [
    {
     "name": "stdout",
     "output_type": "stream",
     "text": [
      "4\n",
      "['a', 'b', 'c', 'd', ['e', 'f']]\n",
      "5\n"
     ]
    }
   ],
   "source": [
    "list1 = ['a','b','c','d']\n",
    "print(len(list1))\n",
    "list1.append(['e','f'])\n",
    "print (list1)\n",
    "print(len(list1))\n"
   ]
  },
  {
   "cell_type": "code",
   "execution_count": 47,
   "id": "9dcae38d",
   "metadata": {},
   "outputs": [
    {
     "name": "stdout",
     "output_type": "stream",
     "text": [
      "4\n",
      "['a', 'b', 'c', 'd', 'e', 'f']\n",
      "6\n"
     ]
    }
   ],
   "source": [
    "list1 = ['a','b','c','d']\n",
    "print(len(list1))\n",
    "list1.extend(['e','f'])\n",
    "print (list1)\n",
    "print(len(list1))\n"
   ]
  },
  {
   "cell_type": "markdown",
   "id": "5968d7bf",
   "metadata": {},
   "source": [
    "### 8. suppose you have df dataset which has a Age column . Create a few field age that will accept 2 values if Age<20 then young if age >=20 ,then adult."
   ]
  },
  {
   "cell_type": "code",
   "execution_count": 48,
   "id": "47a72bbb",
   "metadata": {},
   "outputs": [
    {
     "name": "stdout",
     "output_type": "stream",
     "text": [
      "     Name  Age      city    age\n",
      "0     any   12     dubie  young\n",
      "1    tala   20  lattakia  adult\n",
      "2  hadeel   22     damas  adult\n"
     ]
    }
   ],
   "source": [
    "f=lambda x: \"young\" if x <20 else \"adult\" \n",
    "df['age']=df.Age.apply(f)\n",
    "print(df)"
   ]
  },
  {
   "cell_type": "markdown",
   "id": "d6a08415",
   "metadata": {},
   "source": [
    "### 9. Create a 4x4 matrix and find the sum of all the diagonal elements in the matrix ."
   ]
  },
  {
   "cell_type": "code",
   "execution_count": 50,
   "id": "897da6f5",
   "metadata": {},
   "outputs": [],
   "source": [
    "import numpy as np\n",
    "m=np.array([[2,1,3,4],\n",
    "             [5,6,7,8],\n",
    "            [2,6,3,1],\n",
    "            [9,6,7,3]])"
   ]
  },
  {
   "cell_type": "code",
   "execution_count": 52,
   "id": "ff8e0448",
   "metadata": {},
   "outputs": [
    {
     "name": "stdout",
     "output_type": "stream",
     "text": [
      "[2 6 3 3]\n",
      "14\n"
     ]
    }
   ],
   "source": [
    "print(m.diagonal())\n",
    "print(m.diagonal().sum())"
   ]
  },
  {
   "cell_type": "markdown",
   "id": "8417d8ab",
   "metadata": {},
   "source": [
    "### 10. Given a df dataframe , find the average and maximum Long of the X using Pandas ."
   ]
  },
  {
   "cell_type": "code",
   "execution_count": 66,
   "id": "9b9441ec",
   "metadata": {},
   "outputs": [],
   "source": [
    "df=pd.DataFrame({\"X\" : ['B','B','T','T','O'],\n",
    "    \"Long\" :[120,179,1000,6000,88]})"
   ]
  },
  {
   "cell_type": "code",
   "execution_count": 67,
   "id": "ae4ae5b0",
   "metadata": {},
   "outputs": [
    {
     "name": "stdout",
     "output_type": "stream",
     "text": [
      "     Long      \n",
      "     mean   max\n",
      "X              \n",
      "B   149.5   179\n",
      "O    88.0    88\n",
      "T  3500.0  6000\n"
     ]
    }
   ],
   "source": [
    "result = df.groupby('X').agg({'Long':['mean','max']})\n",
    "print(result)"
   ]
  },
  {
   "cell_type": "code",
   "execution_count": null,
   "id": "45ba0525",
   "metadata": {},
   "outputs": [],
   "source": []
  }
 ],
 "metadata": {
  "kernelspec": {
   "display_name": "Python 3 (ipykernel)",
   "language": "python",
   "name": "python3"
  },
  "language_info": {
   "codemirror_mode": {
    "name": "ipython",
    "version": 3
   },
   "file_extension": ".py",
   "mimetype": "text/x-python",
   "name": "python",
   "nbconvert_exporter": "python",
   "pygments_lexer": "ipython3",
   "version": "3.9.12"
  }
 },
 "nbformat": 4,
 "nbformat_minor": 5
}
